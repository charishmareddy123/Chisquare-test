{
 "cells": [
  {
   "cell_type": "markdown",
   "id": "b59e0c65-8a11-4e5b-904b-d36b37b52b1c",
   "metadata": {},
   "source": [
    "# CHI-SQUARE TEST"
   ]
  },
  {
   "cell_type": "code",
   "execution_count": 5,
   "id": "9b718527-77c7-4290-bc12-884fce60c799",
   "metadata": {},
   "outputs": [],
   "source": [
    "#import libraries\n",
    "import pandas as pd\n",
    "from scipy.stats import chi2_contingency, chi2"
   ]
  },
  {
   "cell_type": "markdown",
   "id": "0840b982-b707-4850-9099-6e2476563bae",
   "metadata": {},
   "source": [
    "# 1. State the Hypotheses:"
   ]
  },
  {
   "cell_type": "code",
   "execution_count": 8,
   "id": "9f0159c1-fa0c-43ae-ab0b-118d20c5be31",
   "metadata": {},
   "outputs": [
    {
     "name": "stdout",
     "output_type": "stream",
     "text": [
      "STEP 1: Hypotheses\n",
      "H₀ (Null Hypothesis): There is no association between device type and customer satisfaction (they are independent).\n",
      "H₁ (Alternative Hypothesis): There is an association between device type and customer satisfaction (they are not independent).\n"
     ]
    }
   ],
   "source": [
    "print(\"STEP 1: Hypotheses\")\n",
    "print(\"H₀ (Null Hypothesis): There is no association between device type and customer satisfaction (they are independent).\")\n",
    "print(\"H₁ (Alternative Hypothesis): There is an association between device type and customer satisfaction (they are not independent).\")"
   ]
  },
  {
   "cell_type": "markdown",
   "id": "f9858165-c79c-4548-9cfa-ba879da69333",
   "metadata": {},
   "source": [
    "# 2. Compute the Chi-Square Statistic:"
   ]
  },
  {
   "cell_type": "code",
   "execution_count": 11,
   "id": "716b9b8f-c40c-4728-ac7c-19bcaa67eadc",
   "metadata": {},
   "outputs": [
    {
     "name": "stdout",
     "output_type": "stream",
     "text": [
      "\n",
      "STEP 2: Observed Frequencies (Contingency Table):\n",
      "                  Smart Thermostat  Smart Light\n",
      "Very Satisfied                  50           70\n",
      "Satisfied                       80          100\n",
      "Neutral                         60           90\n",
      "Unsatisfied                     30           50\n",
      "Very Unsatisfied                20           50\n",
      "\n",
      "STEP 3: Chi-Square Test Results:\n",
      "Chi-Square Statistic: 5.6382\n",
      "Degrees of Freedom: 4\n",
      "P-Value: 0.2278\n",
      "\n",
      "Expected Frequencies:\n",
      "                  Smart Thermostat  Smart Light\n",
      "Very Satisfied                48.0         72.0\n",
      "Satisfied                     72.0        108.0\n",
      "Neutral                       60.0         90.0\n",
      "Unsatisfied                   32.0         48.0\n",
      "Very Unsatisfied              28.0         42.0\n"
     ]
    }
   ],
   "source": [
    "observed = pd.DataFrame({\n",
    "    'Smart Thermostat': [50, 80, 60, 30, 20],\n",
    "    'Smart Light': [70, 100, 90, 50, 50]\n",
    "}, index=['Very Satisfied', 'Satisfied', 'Neutral', 'Unsatisfied', 'Very Unsatisfied'])\n",
    "\n",
    "print(\"\\nSTEP 2: Observed Frequencies (Contingency Table):\")\n",
    "print(observed)\n",
    "\n",
    "# Perform Chi-Square Test\n",
    "chi2_stat, p_val, dof, expected = chi2_contingency(observed)\n",
    "\n",
    "# Expected Frequencies\n",
    "expected_df = pd.DataFrame(expected, index=observed.index, columns=observed.columns)\n",
    "\n",
    "print(\"\\nSTEP 3: Chi-Square Test Results:\")\n",
    "print(f\"Chi-Square Statistic: {round(chi2_stat, 4)}\")\n",
    "print(f\"Degrees of Freedom: {dof}\")\n",
    "print(f\"P-Value: {round(p_val, 4)}\")\n",
    "\n",
    "print(\"\\nExpected Frequencies:\")\n",
    "print(expected_df.round(2))"
   ]
  },
  {
   "cell_type": "markdown",
   "id": "670de226-b671-4c77-bd08-c5038f8f430d",
   "metadata": {},
   "source": [
    "# 3. Determine the Critical Value:"
   ]
  },
  {
   "cell_type": "markdown",
   "id": "44d79ccf-e670-4d59-93fc-af51beebd5ce",
   "metadata": {},
   "source": [
    "### Using the significance level (alpha) of 0.05 and the degrees of freedom (which is the number of categories minus 1)"
   ]
  },
  {
   "cell_type": "code",
   "execution_count": 15,
   "id": "df9f9b6f-38a6-4cf3-b8e8-963b6373dea7",
   "metadata": {},
   "outputs": [
    {
     "name": "stdout",
     "output_type": "stream",
     "text": [
      "\n",
      "STEP 4: Critical Value and Comparison\n",
      "Significance Level (alpha): 0.05\n",
      "Degrees of Freedom: 4\n",
      "Critical Value (Chi-Square) at α = 0.05: 9.4877\n"
     ]
    }
   ],
   "source": [
    "alpha = 0.05\n",
    "critical_value = chi2.ppf(1 - alpha, dof)\n",
    "\n",
    "print(\"\\nSTEP 4: Critical Value and Comparison\")\n",
    "print(f\"Significance Level (alpha): {alpha}\")\n",
    "print(f\"Degrees of Freedom: {dof}\")\n",
    "print(f\"Critical Value (Chi-Square) at α = 0.05: {round(critical_value, 4)}\")"
   ]
  },
  {
   "cell_type": "markdown",
   "id": "8d5b4762-684a-410d-9a81-c8ed3fa43f57",
   "metadata": {},
   "source": [
    "# 4. Make a Decision:"
   ]
  },
  {
   "cell_type": "code",
   "execution_count": 18,
   "id": "9aede449-9860-4580-a04f-2620511fd08d",
   "metadata": {},
   "outputs": [
    {
     "name": "stdout",
     "output_type": "stream",
     "text": [
      "\n",
      "STEP 5: Decision and Conclusion\n",
      "Result: Fail to reject the null hypothesis.\n",
      "Conclusion: There is NO significant association between device type and customer satisfaction.\n"
     ]
    }
   ],
   "source": [
    "print(\"\\nSTEP 5: Decision and Conclusion\")\n",
    "if chi2_stat > critical_value:\n",
    "    print(\"Result: Reject the null hypothesis.\")\n",
    "    print(\"Conclusion: There IS a significant association between device type and customer satisfaction.\")\n",
    "else:\n",
    "    print(\"Result: Fail to reject the null hypothesis.\")\n",
    "    print(\"Conclusion: There is NO significant association between device type and customer satisfaction.\")"
   ]
  },
  {
   "cell_type": "code",
   "execution_count": null,
   "id": "ac99d02a-82ed-44d6-ae71-58619fac09dd",
   "metadata": {},
   "outputs": [],
   "source": []
  }
 ],
 "metadata": {
  "kernelspec": {
   "display_name": "Python [conda env:base] *",
   "language": "python",
   "name": "conda-base-py"
  },
  "language_info": {
   "codemirror_mode": {
    "name": "ipython",
    "version": 3
   },
   "file_extension": ".py",
   "mimetype": "text/x-python",
   "name": "python",
   "nbconvert_exporter": "python",
   "pygments_lexer": "ipython3",
   "version": "3.12.7"
  }
 },
 "nbformat": 4,
 "nbformat_minor": 5
}
